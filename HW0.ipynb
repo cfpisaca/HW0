{
 "cells": [
  {
   "cell_type": "markdown",
   "metadata": {},
   "source": [
    "# HW 0\n"
   ]
  },
  {
   "cell_type": "markdown",
   "metadata": {},
   "source": [
    "Here is the reference to the dataset I am using [ Breast Cancer Wisconsin (Diagnostic) ] : https://archive.ics.uci.edu/dataset/17/breast+cancer+wisconsin+diagnostic "
   ]
  },
  {
   "cell_type": "markdown",
   "metadata": {},
   "source": [
    "Now I want to convert the data.txt into a data.csv file. This will also assign the column headers as stated in the data_readme.txt file"
   ]
  },
  {
   "cell_type": "code",
   "execution_count": 1,
   "metadata": {},
   "outputs": [
    {
     "name": "stdout",
     "output_type": "stream",
     "text": [
      "CSV file has been saved to data.csv\n"
     ]
    }
   ],
   "source": [
    "import pandas as pd\n",
    "\n",
    "# Path to the input file\n",
    "file_path = 'data.txt' \n",
    "\n",
    "# Read the data from the file\n",
    "with open(file_path, 'r') as file:\n",
    "    data = file.readlines()\n",
    "\n",
    "# Clean and split the data by commas\n",
    "data_cleaned = [line.strip().split(',') for line in data]\n",
    "\n",
    "# Define column headers\n",
    "columns = [\n",
    "    \"ID\", \"Diagnosis\", \"MeanRadius\", \"MeanTexture\", \"MeanPerimeter\", \"MeanArea\", \"MeanSmoothness\", \n",
    "    \"MeanCompactness\", \"MeanConcavity\", \"MeanConcavePoints\", \"MeanSymmetry\", \"MeanFractalDimension\",\n",
    "    \"RadiusSE\", \"TextureSE\", \"PerimeterSE\", \"AreaSE\", \"SmoothnessSE\", \"CompactnessSE\", \"ConcavitySE\", \n",
    "    \"ConcavePointsSE\", \"SymmetrySE\", \"FractalDimensionSE\", \"RadiusWorst\", \"TextureWorst\", \"PerimeterWorst\", \n",
    "    \"AreaWorst\", \"SmoothnessWorst\", \"CompactnessWorst\", \"ConcavityWorst\", \"ConcavePointsWorst\", \"SymmetryWorst\", \n",
    "    \"FractalDimensionWorst\"\n",
    "]\n",
    "\n",
    "# Convert the cleaned data into a pandas DataFrame\n",
    "df = pd.DataFrame(data_cleaned, columns=columns)\n",
    "\n",
    "# Save the DataFrame as a CSV file\n",
    "csv_file_path = 'data.csv'  # Output file path\n",
    "df.to_csv(csv_file_path, index=False)\n",
    "\n",
    "print(f\"CSV file has been saved to {csv_file_path}\")\n"
   ]
  }
 ],
 "metadata": {
  "kernelspec": {
   "display_name": "base",
   "language": "python",
   "name": "python3"
  },
  "language_info": {
   "codemirror_mode": {
    "name": "ipython",
    "version": 3
   },
   "file_extension": ".py",
   "mimetype": "text/x-python",
   "name": "python",
   "nbconvert_exporter": "python",
   "pygments_lexer": "ipython3",
   "version": "3.12.7"
  }
 },
 "nbformat": 4,
 "nbformat_minor": 2
}
